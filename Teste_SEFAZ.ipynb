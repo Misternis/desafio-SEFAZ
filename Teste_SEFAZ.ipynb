{
  "nbformat": 4,
  "nbformat_minor": 0,
  "metadata": {
    "colab": {
      "provenance": [],
      "authorship_tag": "ABX9TyP+a3eu/609vbeGi7vXD++L",
      "include_colab_link": true
    },
    "kernelspec": {
      "name": "python3",
      "display_name": "Python 3"
    },
    "language_info": {
      "name": "python"
    }
  },
  "cells": [
    {
      "cell_type": "markdown",
      "metadata": {
        "id": "view-in-github",
        "colab_type": "text"
      },
      "source": [
        "<a href=\"https://colab.research.google.com/github/Misternis/desafio-SEFAZ/blob/main/Teste_SEFAZ.ipynb\" target=\"_parent\"><img src=\"https://colab.research.google.com/assets/colab-badge.svg\" alt=\"Open In Colab\"/></a>"
      ]
    },
    {
      "cell_type": "code",
      "execution_count": 58,
      "metadata": {
        "colab": {
          "base_uri": "https://localhost:8080/"
        },
        "id": "xsTfnsL3MPkz",
        "outputId": "601e3dc4-18c7-4309-d332-7ff3ae677e2e"
      },
      "outputs": [
        {
          "output_type": "stream",
          "name": "stdout",
          "text": [
            "Iniciando etapa 1.1 Verificar/Criar banco de dados\n",
            "Verificando banco de dados, aguarde...\n",
            "Banco de dados 'bancoteste.db' criado ou já existente.\n"
          ]
        }
      ],
      "source": [
        "import sqlite3\n",
        "\n",
        "# Função para conectar ou criar o banco de dados SQLite\n",
        "def conexao_banco():\n",
        "    # Conecta ao banco de dados chamado 'bancoteste.db'.\n",
        "    # Se o arquivo não existir, ele será criado automaticamente.\n",
        "    conexao = sqlite3.connect('bancoteste.db')\n",
        "    return conexao\n",
        "\n",
        "print(\"Iniciando etapa 1.1 Verificar/Criar banco de dados\")\n",
        "print(\"Verificando banco de dados, aguarde...\")\n",
        "# Chama a função para estabelecer a conexão, o que cria o banco se não existir.\n",
        "conexao = conexao_banco()\n",
        "print(\"Banco de dados 'bancoteste.db' criado ou já existente.\")\n",
        "# Fecha a conexão com o banco de dados.\n",
        "conexao.close()"
      ]
    },
    {
      "cell_type": "code",
      "metadata": {
        "colab": {
          "base_uri": "https://localhost:8080/"
        },
        "id": "ca93d357-21e7-4772-8841-0ae260e51a39",
        "outputId": "ad610627-44cf-42e8-b2c0-d2ff4b705da1"
      },
      "source": [
        "print(\"Iniciando etapa 1.2 Verificar/Criar tabelas e campos\")\n",
        "# Função para criar as tabelas no banco de dados, caso não existam.\n",
        "def criar_tabelas(conexao):\n",
        "    # Cria um objeto cursor para executar comandos SQL.\n",
        "    cursor = conexao.cursor()\n",
        "\n",
        "    # Criar tabela SELECAO_CANDIDATO\n",
        "    # Utiliza CREATE TABLE IF NOT EXISTS para evitar erro se a tabela já existir.\n",
        "    cursor.execute('''\n",
        "        CREATE TABLE IF NOT EXISTS SELECAO_CANDIDATO (\n",
        "            ID_CANDIDATO INTEGER PRIMARY KEY AUTOINCREMENT, -- Chave primária auto-incrementada\n",
        "            NME_CANDIDATO TEXT NOT NULL, -- Nome do candidato (obrigatório)\n",
        "            DAT_INSCRICAO TIMESTAMP DEFAULT CURRENT_TIMESTAMP -- Data e hora da inserção (padrão: data/hora atual)\n",
        "        )\n",
        "    ''')\n",
        "\n",
        "    # Criar tabela SELECAO_TESTE\n",
        "    # Utiliza CREATE TABLE IF NOT EXISTS para evitar erro se a tabela já existir.\n",
        "    cursor.execute('''\n",
        "        CREATE TABLE IF NOT EXISTS SELECAO_TESTE (\n",
        "            ID_TESTE INTEGER PRIMARY KEY AUTOINCREMENT, -- Chave primária auto-incrementada\n",
        "            ID_CANDIDATO INTEGER, -- Chave estrangeira referenciando SELECAO_CANDIDATO\n",
        "            NUM_FIBONACCI INTEGER, -- Número da sequência de Fibonacci\n",
        "            NUM_PAR INTEGER, -- Indica se o número de Fibonacci é par (1) ou não (0)\n",
        "            NUM_IMPAR INTEGER, -- Indica se o número de Fibonacci é ímpar (1) ou não (0)\n",
        "            FOREIGN KEY (ID_CANDIDATO) REFERENCES SELECAO_CANDIDATO(ID_CANDIDATO) -- Define a chave estrangeira\n",
        "        )\n",
        "    ''')\n",
        "\n",
        "    # Confirma as alterações no banco de dados.\n",
        "    conexao.commit()\n",
        "    print(\"Tabelas 'SELECAO_CANDIDATO' e 'SELECAO_TESTE' verificadas/criadas com sucesso.\")\n",
        "\n",
        "\n",
        "print(\"Verificando tabelas e campos, aguarde...\")\n",
        "# Conecta ao banco de dados.\n",
        "conexao = conexao_banco()\n",
        "# Chama a função para criar as tabelas.\n",
        "criar_tabelas(conexao)\n",
        "\n",
        "print(\"Finalizando conexão com banco de dados.\")\n",
        "# Fecha a conexão com o banco de dados.\n",
        "conexao.close()\n",
        "print(\"Conexão finalizada com sucesso.\")"
      ],
      "execution_count": 59,
      "outputs": [
        {
          "output_type": "stream",
          "name": "stdout",
          "text": [
            "Iniciando etapa 1.2 Verificar/Criar tabelas e campos\n",
            "Verificando tabelas e campos, aguarde...\n",
            "Tabelas 'SELECAO_CANDIDATO' e 'SELECAO_TESTE' verificadas/criadas com sucesso.\n",
            "Finalizando conexão com banco de dados.\n",
            "Conexão finalizada com sucesso.\n"
          ]
        }
      ]
    },
    {
      "cell_type": "code",
      "metadata": {
        "colab": {
          "base_uri": "https://localhost:8080/"
        },
        "id": "46c382e7",
        "outputId": "e149e8d4-7fb4-4f99-a979-5f1d5eeb6d4b"
      },
      "source": [
        "print(\"Iniciando etapa 2 Fibonacci e Inserção de Dados\")\n",
        "# Função para inserir dados nas tabelas.\n",
        "def inserir_dados(conexao):\n",
        "    # Cria um objeto cursor para executar comandos SQL.\n",
        "    cursor = conexao.cursor()\n",
        "\n",
        "    # Inserir registro na tabela SELECAO_CANDIDATO\n",
        "    # Insere um registro com um nome de candidato fictício.\n",
        "    cursor.execute(\"INSERT INTO SELECAO_CANDIDATO (NME_CANDIDATO) VALUES (?)\", (\"Candidato Teste\",))\n",
        "\n",
        "    # Retorna o ID da última linha inserida na tabela SELECAO_CANDIDATO.\n",
        "    candidato_id = cursor.lastrowid\n",
        "    print(f\"Registro inserido na tabela SELECAO_CANDIDATO com ID: {candidato_id}\")\n",
        "\n",
        "    # Gerar e inserir registros na tabela SELECAO_TESTE\n",
        "    fibonacci_sequence = [0, 1]\n",
        "    # Gera os 30 primeiros números da sequência de Fibonacci. (Cada número é a soma dos dois anteriores.)\n",
        "    for i in range(2, 30):\n",
        "        next_fib = fibonacci_sequence[-1] + fibonacci_sequence[-2]\n",
        "        fibonacci_sequence.append(next_fib)\n",
        "\n",
        "    # Remove os dois primeiros números (0 e 1) para começar a partir do terceiro.\n",
        "    # fibonacci_sequence = fibonacci_sequence[2:]\n",
        "\n",
        "    # Itera sobre a sequência de Fibonacci para inserir na tabela SELECAO_TESTE.\n",
        "    for num_fib in fibonacci_sequence:\n",
        "        # Verifica se o número é par ou ímpar usando o operador % (módulo) para pegar o resto da divisão por 2.\n",
        "        # Se o resto for 0, o número é par, então num_par = 1, caso contrário, num_par = 0.\n",
        "        num_par = 1 if num_fib % 2 == 0 else 0\n",
        "        num_impar = 1 if num_fib % 2 != 0 else 0\n",
        "        # Insere o registro na tabela SELECAO_TESTE com o ID do candidato, número Fibonacci, e indicadores de par/ímpar.\n",
        "        cursor.execute(\"INSERT INTO SELECAO_TESTE (ID_CANDIDATO, NUM_FIBONACCI, NUM_PAR, NUM_IMPAR) VALUES (?, ?, ?, ?)\",\n",
        "                       (candidato_id, num_fib, num_par, num_impar))\n",
        "\n",
        "    # Confirma as alterações no banco de dados (todas as inserções na tabela SELECAO_TESTE).\n",
        "    conexao.commit()\n",
        "    print(f\"{len(fibonacci_sequence)} registros inseridos na tabela SELECAO_TESTE.\")\n",
        "\n",
        "# Conectar ao banco de dados.\n",
        "conexao = conexao_banco()\n",
        "# Chama a função para inserir os dados.\n",
        "inserir_dados(conexao)\n",
        "# Fecha a conexão com o banco de dados.\n",
        "conexao.close()\n",
        "print(\"Inserção de dados concluída.\")"
      ],
      "execution_count": 60,
      "outputs": [
        {
          "output_type": "stream",
          "name": "stdout",
          "text": [
            "Iniciando etapa 2 Fibonacci e Inserção de Dados\n",
            "Registro inserido na tabela SELECAO_CANDIDATO com ID: 11\n",
            "30 registros inseridos na tabela SELECAO_TESTE.\n",
            "Inserção de dados concluída.\n"
          ]
        }
      ]
    },
    {
      "cell_type": "code",
      "metadata": {
        "colab": {
          "base_uri": "https://localhost:8080/"
        },
        "id": "446f22c9",
        "outputId": "982ff374-c600-4ac3-971f-f4e5f57d3ba3"
      },
      "source": [
        "print(\"Iniciando etapa 3: Consultas SQL\")\n",
        "\n",
        "# Conectar ao banco de dados\n",
        "conexao = conexao_banco()\n",
        "cursor = conexao.cursor()\n",
        "\n",
        "# 1. Listar a sequência Fibonacci\n",
        "print(\"\\n--- Sequência Fibonacci ---\")\n",
        "cursor.execute(\"SELECT NUM_FIBONACCI FROM SELECAO_TESTE ORDER BY ID_TESTE\")\n",
        "fib_sequence = cursor.fetchall()\n",
        "for num in fib_sequence:\n",
        "    print(num[0], end=\" \")\n",
        "print()\n",
        "\n",
        "# 2. Listar os 5 maiores números da sequência inserida\n",
        "print(\"\\n--- 5 Maiores Números Fibonacci ---\")\n",
        "cursor.execute(\"SELECT NUM_FIBONACCI FROM SELECAO_TESTE ORDER BY NUM_FIBONACCI DESC LIMIT 5\")\n",
        "top_5_fib = cursor.fetchall()\n",
        "for num in top_5_fib:\n",
        "    print(num[0])\n",
        "\n",
        "# 3. Contar quantos números pares e quantos ímpares foram armazenados\n",
        "print(\"\\n--- Contagem de Pares e Ímpares ---\")\n",
        "cursor.execute(\"SELECT SUM(NUM_PAR) AS total_pares, SUM(NUM_IMPAR) AS total_impares FROM SELECAO_TESTE\")\n",
        "counts = cursor.fetchone()\n",
        "print(f\"Total de números pares: {counts[0]}\")\n",
        "print(f\"Total de números ímpares: {counts[1]}\")\n",
        "\n",
        "# 4. Deletar todos os números que forem maiores que 5000\n",
        "print(\"\\n--- Deletando números maiores que 5000 ---\")\n",
        "cursor.execute(\"DELETE FROM SELECAO_TESTE WHERE NUM_FIBONACCI > 5000\")\n",
        "conexao.commit()\n",
        "print(f\"{cursor.rowcount} registros deletados.\")\n",
        "\n",
        "# 5. Listar a sequência Fibonacci novamente (após a exclusão)\n",
        "print(\"\\n--- Sequência Fibonacci após exclusão ---\")\n",
        "cursor.execute(\"SELECT NUM_FIBONACCI FROM SELECAO_TESTE ORDER BY ID_TESTE\")\n",
        "fib_sequence_after_delete = cursor.fetchall()\n",
        "for num in fib_sequence_after_delete:\n",
        "    print(num[0], end=\" \")\n",
        "print()\n",
        "\n",
        "\n",
        "# Fechar a conexão com o banco de dados\n",
        "conexao.close()\n",
        "print(\"\\nEtapa 3 concluída: Consultas SQL executadas.\")"
      ],
      "execution_count": 61,
      "outputs": [
        {
          "output_type": "stream",
          "name": "stdout",
          "text": [
            "Iniciando etapa 3: Consultas SQL\n",
            "\n",
            "--- Sequência Fibonacci ---\n",
            "1 2 3 5 8 13 21 34 55 89 144 233 377 610 987 1597 2584 4181 1 2 3 5 8 13 21 34 55 89 144 233 377 610 987 1597 2584 4181 1 2 3 5 8 13 21 34 55 89 144 233 377 610 987 1597 2584 4181 1 2 3 5 8 13 21 34 55 89 144 233 377 610 987 1597 2584 4181 1 2 3 5 8 13 21 34 55 89 144 233 377 610 987 1597 2584 4181 0 1 1 2 3 5 8 13 21 34 55 89 144 233 377 610 987 1597 2584 4181 0 1 1 2 3 5 8 13 21 34 55 89 144 233 377 610 987 1597 2584 4181 0 1 1 2 3 5 8 13 21 34 55 89 144 233 377 610 987 1597 2584 4181 0 1 1 2 3 5 8 13 21 34 55 89 144 233 377 610 987 1597 2584 4181 0 1 1 2 3 5 8 13 21 34 55 89 144 233 377 610 987 1597 2584 4181 0 1 1 2 3 5 8 13 21 34 55 89 144 233 377 610 987 1597 2584 4181 6765 10946 17711 28657 46368 75025 121393 196418 317811 514229 \n",
            "\n",
            "--- 5 Maiores Números Fibonacci ---\n",
            "514229\n",
            "317811\n",
            "196418\n",
            "121393\n",
            "75025\n",
            "\n",
            "--- Contagem de Pares e Ímpares ---\n",
            "Total de números pares: 75\n",
            "Total de números ímpares: 145\n",
            "\n",
            "--- Deletando números maiores que 5000 ---\n",
            "10 registros deletados.\n",
            "\n",
            "--- Sequência Fibonacci após exclusão ---\n",
            "1 2 3 5 8 13 21 34 55 89 144 233 377 610 987 1597 2584 4181 1 2 3 5 8 13 21 34 55 89 144 233 377 610 987 1597 2584 4181 1 2 3 5 8 13 21 34 55 89 144 233 377 610 987 1597 2584 4181 1 2 3 5 8 13 21 34 55 89 144 233 377 610 987 1597 2584 4181 1 2 3 5 8 13 21 34 55 89 144 233 377 610 987 1597 2584 4181 0 1 1 2 3 5 8 13 21 34 55 89 144 233 377 610 987 1597 2584 4181 0 1 1 2 3 5 8 13 21 34 55 89 144 233 377 610 987 1597 2584 4181 0 1 1 2 3 5 8 13 21 34 55 89 144 233 377 610 987 1597 2584 4181 0 1 1 2 3 5 8 13 21 34 55 89 144 233 377 610 987 1597 2584 4181 0 1 1 2 3 5 8 13 21 34 55 89 144 233 377 610 987 1597 2584 4181 0 1 1 2 3 5 8 13 21 34 55 89 144 233 377 610 987 1597 2584 4181 \n",
            "\n",
            "Etapa 3 concluída: Consultas SQL executadas.\n"
          ]
        }
      ]
    }
  ]
}